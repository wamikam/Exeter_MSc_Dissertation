{
 "cells": [
  {
   "cell_type": "code",
   "execution_count": null,
   "metadata": {},
   "outputs": [],
   "source": [
    "#Import all libraries\n",
    "import pandas as pd\n",
    "import numpy as np\n",
    "import sys\n",
    "from itertools import combinations, groupby\n",
    "from collections import Counter\n",
    "from IPython.display import display\n",
    "from sklearn.metrics.pairwise import cosine_similarity\n",
    "from sklearn.metrics import mean_squared_error\n",
    "from sklearn.model_selection import train_test_split\n",
    "from sklearn.feature_extraction.text import TfidfVectorizer\n",
    "from sklearn.metrics.pairwise import linear_kernel\n",
    "from ast import literal_eval\n",
    "from sklearn.feature_extraction.text import CountVectorizer"
   ]
  },
  {
   "cell_type": "code",
   "execution_count": null,
   "metadata": {},
   "outputs": [],
   "source": [
    "#Input all files\n",
    "import os\n",
    "for dirname, _, filenames in os.walk('C:/Users/Wamika/Desktop/Dissertation/Food Data/All csv files'):\n",
    "    for filename in filenames:\n",
    "        print(os.path.join(dirname, filename))\n",
    "\n",
    "# Any results you write to the current directory are saved as output."
   ]
  },
  {
   "cell_type": "code",
   "execution_count": null,
   "metadata": {},
   "outputs": [],
   "source": [
    "df_order = pd.read_csv('C:/Users/Wamika/Desktop/Dissertation/Food Data/All csv files/order_products__train.csv')\n",
    "df_product = pd.read_csv('C:/Users/Wamika/Desktop/Dissertation/Food Data/All csv files/products.csv')\n",
    "df_departments = pd.read_csv('C:/Users/Wamika/Desktop/Dissertation/Food Data/All csv files/departments.csv')\n",
    "df_aisles = pd.read_csv('C:/Users/Wamika/Desktop/Dissertation/Food Data/All csv files/aisles.csv')\n",
    "\n",
    "prior_data = pd.read_csv('C:/Users/Wamika/Desktop/Dissertation/Food Data/All csv files/order_products__prior.csv')\n",
    "train_data = pd.read_csv('C:/Users/Wamika/Desktop/Dissertation/Food Data/All csv files/order_products__train.csv')\n",
    "orders_data = pd.read_csv('C:/Users/Wamika/Desktop/Dissertation/Food Data/All csv files/orders.csv')\n",
    "products_data = pd.read_csv('C:/Users/Wamika/Desktop/Dissertation/Food Data/All csv files/products.csv')"
   ]
  },
  {
   "cell_type": "code",
   "execution_count": null,
   "metadata": {},
   "outputs": [],
   "source": [
    "orders = pd.read_csv('C:/Users/Wamika/Desktop/Dissertation/Food Data/All csv files/order_products__prior.csv')"
   ]
  },
  {
   "cell_type": "code",
   "execution_count": null,
   "metadata": {},
   "outputs": [],
   "source": [
    "df_orders = pd.merge(df_order, df_product, on='product_id')\n",
    "df_orders.head(5)"
   ]
  },
  {
   "cell_type": "code",
   "execution_count": null,
   "metadata": {},
   "outputs": [],
   "source": [
    "final_dataframe = pd.merge(pd.merge(pd.merge(df_order, \n",
    "                                          df_product, \n",
    "                                          on=\"product_id\", how = 'inner'), \n",
    "                                   df_aisles, \n",
    "                                   on=\"aisle_id\", how='inner'),\n",
    "                      df_departments, \n",
    "                      on=\"department_id\", how = 'inner')"
   ]
  },
  {
   "cell_type": "code",
   "execution_count": null,
   "metadata": {},
   "outputs": [],
   "source": [
    "final_dataframe.head(5)"
   ]
  },
  {
   "cell_type": "code",
   "execution_count": null,
   "metadata": {},
   "outputs": [],
   "source": [
    "df_meta = final_dataframe.groupby('product_id', as_index=False).agg(set)"
   ]
  },
  {
   "cell_type": "code",
   "execution_count": null,
   "metadata": {},
   "outputs": [],
   "source": [
    "df_meta.head(5)"
   ]
  },
  {
   "cell_type": "code",
   "execution_count": null,
   "metadata": {},
   "outputs": [],
   "source": [
    "df_meta['aisle'] = df_meta['aisle'].apply(lambda x: [i.replace(' ','') for i in x])\n",
    "df_meta['department'] = df_meta['department'].apply(lambda x: [i.replace(' ','') for i in x])"
   ]
  },
  {
   "cell_type": "code",
   "execution_count": null,
   "metadata": {},
   "outputs": [],
   "source": [
    "df_meta['metadata'] = df_meta.apply(lambda x : ' ' + ' '.join(x['aisle']) + ' ' + ' '.join(x['department']), axis = 1)\n",
    "df_meta.head(5)"
   ]
  },
  {
   "cell_type": "code",
   "execution_count": null,
   "metadata": {},
   "outputs": [],
   "source": [
    "df_vec = df_meta.head(10000) \n",
    "df_produtos_previstos = pd.merge(df_vec[['product_id']], df_product[['product_id','product_name']], on='product_id', how='inner')\n",
    "\n",
    "count_vec = CountVectorizer(stop_words='english')\n",
    "count_vec_matrix = count_vec.fit_transform(df_vec['metadata'])\n",
    "cosine_sim_matrix = cosine_similarity(count_vec_matrix, count_vec_matrix)\n",
    "mapping = pd.Series(df_produtos_previstos.index, index = df_produtos_previstos['product_name'])"
   ]
  },
  {
   "cell_type": "code",
   "execution_count": null,
   "metadata": {},
   "outputs": [],
   "source": [
    "def recommend_products(product_input):\n",
    "    \n",
    "    product_index = mapping[product_input]\n",
    "    \n",
    "    similarity_score = list(enumerate(cosine_sim_matrix[product_index]))\n",
    "    similarity_score = sorted(similarity_score, key=lambda x: x[1], reverse=True)\n",
    "    \n",
    "    similarity_score = similarity_score[1:10]\n",
    "    product_indices = [i[0] for i in similarity_score]\n",
    "    \n",
    "    return (df_vec['product_name'].iloc[product_indices])"
   ]
  },
  {
   "cell_type": "code",
   "execution_count": null,
   "metadata": {},
   "outputs": [],
   "source": [
    "df_produtos_previstos.sample(100)"
   ]
  },
  {
   "cell_type": "code",
   "execution_count": null,
   "metadata": {},
   "outputs": [],
   "source": [
    "recommend_products('Over Tired and Cranky Bubble Bath')"
   ]
  },
  {
   "cell_type": "code",
   "execution_count": null,
   "metadata": {},
   "outputs": [],
   "source": [
    "recommend_products('Chocolate Sandwich Cookies')"
   ]
  },
  {
   "cell_type": "code",
   "execution_count": null,
   "metadata": {},
   "outputs": [],
   "source": [
    "recommend_products('Green Chile Anytime Sauce')"
   ]
  }
 ],
 "metadata": {
  "kernelspec": {
   "display_name": "Python 3",
   "language": "python",
   "name": "python3"
  },
  "language_info": {
   "codemirror_mode": {
    "name": "ipython",
    "version": 3
   },
   "file_extension": ".py",
   "mimetype": "text/x-python",
   "name": "python",
   "nbconvert_exporter": "python",
   "pygments_lexer": "ipython3",
   "version": "3.8.3"
  }
 },
 "nbformat": 4,
 "nbformat_minor": 4
}
